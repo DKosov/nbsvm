{
 "cells": [
  {
   "cell_type": "code",
   "execution_count": 1,
   "metadata": {},
   "outputs": [],
   "source": [
    "import pandas as pd\n",
    "import numpy as np\n",
    "import json"
   ]
  },
  {
   "cell_type": "code",
   "execution_count": 321,
   "metadata": {},
   "outputs": [
    {
     "name": "stdout",
     "output_type": "stream",
     "text": [
      "lda_fit.ipynb train.json\r\n"
     ]
    }
   ],
   "source": [
    "!ls ./data"
   ]
  },
  {
   "cell_type": "code",
   "execution_count": 2,
   "metadata": {},
   "outputs": [],
   "source": [
    "with open('./data/train.json', 'r') as f:\n",
    "    data = json.load(f)"
   ]
  },
  {
   "cell_type": "code",
   "execution_count": 3,
   "metadata": {},
   "outputs": [
    {
     "data": {
      "text/html": [
       "<div>\n",
       "<style scoped>\n",
       "    .dataframe tbody tr th:only-of-type {\n",
       "        vertical-align: middle;\n",
       "    }\n",
       "\n",
       "    .dataframe tbody tr th {\n",
       "        vertical-align: top;\n",
       "    }\n",
       "\n",
       "    .dataframe thead th {\n",
       "        text-align: right;\n",
       "    }\n",
       "</style>\n",
       "<table border=\"1\" class=\"dataframe\">\n",
       "  <thead>\n",
       "    <tr style=\"text-align: right;\">\n",
       "      <th></th>\n",
       "      <th>id</th>\n",
       "      <th>sentiment</th>\n",
       "      <th>text</th>\n",
       "    </tr>\n",
       "  </thead>\n",
       "  <tbody>\n",
       "    <tr>\n",
       "      <th>0</th>\n",
       "      <td>1945</td>\n",
       "      <td>negative</td>\n",
       "      <td>Досудебное расследование по факту покупки ЕНПФ...</td>\n",
       "    </tr>\n",
       "    <tr>\n",
       "      <th>1</th>\n",
       "      <td>1957</td>\n",
       "      <td>negative</td>\n",
       "      <td>Медики рассказали о состоянии пострадавшего му...</td>\n",
       "    </tr>\n",
       "    <tr>\n",
       "      <th>2</th>\n",
       "      <td>1969</td>\n",
       "      <td>negative</td>\n",
       "      <td>Прошел почти год, как железнодорожным оператор...</td>\n",
       "    </tr>\n",
       "    <tr>\n",
       "      <th>3</th>\n",
       "      <td>1973</td>\n",
       "      <td>negative</td>\n",
       "      <td>По итогам 12 месяцев 2016 года на территории р...</td>\n",
       "    </tr>\n",
       "    <tr>\n",
       "      <th>4</th>\n",
       "      <td>1975</td>\n",
       "      <td>negative</td>\n",
       "      <td>Астана. 21 ноября. Kazakhstan Today - Агентств...</td>\n",
       "    </tr>\n",
       "  </tbody>\n",
       "</table>\n",
       "</div>"
      ],
      "text/plain": [
       "     id sentiment                                               text\n",
       "0  1945  negative  Досудебное расследование по факту покупки ЕНПФ...\n",
       "1  1957  negative  Медики рассказали о состоянии пострадавшего му...\n",
       "2  1969  negative  Прошел почти год, как железнодорожным оператор...\n",
       "3  1973  negative  По итогам 12 месяцев 2016 года на территории р...\n",
       "4  1975  negative  Астана. 21 ноября. Kazakhstan Today - Агентств..."
      ]
     },
     "execution_count": 3,
     "metadata": {},
     "output_type": "execute_result"
    }
   ],
   "source": [
    "data = pd.DataFrame(data)\n",
    "data.head()"
   ]
  },
  {
   "cell_type": "code",
   "execution_count": 4,
   "metadata": {},
   "outputs": [
    {
     "data": {
      "text/plain": [
       "array(['negative', 'positive', 'neutral'], dtype=object)"
      ]
     },
     "execution_count": 4,
     "metadata": {},
     "output_type": "execute_result"
    }
   ],
   "source": [
    "data['sentiment'].unique()"
   ]
  },
  {
   "cell_type": "code",
   "execution_count": 5,
   "metadata": {},
   "outputs": [],
   "source": [
    "y = data['sentiment'].to_numpy()\n",
    "y[y == 'negative'] = -1\n",
    "y[y == 'positive'] = 1\n",
    "y[y == 'neutral'] = 0"
   ]
  },
  {
   "cell_type": "code",
   "execution_count": 6,
   "metadata": {},
   "outputs": [],
   "source": [
    "from pymystem3 import Mystem\n",
    "from nltk.corpus import stopwords\n",
    "import re\n",
    "from nltk import word_tokenize"
   ]
  },
  {
   "cell_type": "code",
   "execution_count": 7,
   "metadata": {},
   "outputs": [],
   "source": [
    "stopw = stopwords.words('russian')"
   ]
  },
  {
   "cell_type": "code",
   "execution_count": 8,
   "metadata": {},
   "outputs": [],
   "source": [
    "X = data['text'].to_numpy()"
   ]
  },
  {
   "cell_type": "code",
   "execution_count": 9,
   "metadata": {},
   "outputs": [
    {
     "data": {
      "text/plain": [
       "'\\nЗа два с половиной года ЕНПФ увеличил инвестиции в развитие реального сектора экономики в 2 раза. За этот же период чистый инвестиционный доход к общему объему накоплений вырос с 20 до 36%, сообщает Finprom.kz\\n\\n\\n\\nПенсионная система активно инвестирует в реальный сектор экономики*. С момента консолидации пенсионных активов в ЕНПФ сумма инвестиций в инструменты эмитентов реального сектора экономики (включая институты развития) выросла больше чем в 2 раза.\\n\\nВ настоящий момент стоимость таких инвестиций в портфеле ЕНПФ превысила 1 триллион тенге.\\n\\n\\n\\nС начала 2014 года до августа текущего года сумма пенсионных активов ЕНПФ выросла на 63%, в том числе объем инвестированных активов - на 73%.\\n\\nЧистый инвестиционный доход фонда за этот период составил 1,3 триллиона тенге.\\n\\n\\n\\nСредства ЕНПФ в настоящий момент - мощный источник финансирования форсированного развития экономики страны в кризисный период.\\n\\nНаибольший объем пенсактивов в реальном секторе вложен в инструменты отраслевых институтов развития - БРК и КазАгро, - финансирующих проекты в поддержку обрабатывающей промышленности и сельского хозяйства.\\n\\nСумма средств ЕНПФ, вложенная в проекты БРК, оценивается в 297 млрд тенге, или 5% инвестпортфеля фонда.\\n\\nКазАгро и Продкорпорация, финансирующие агропромышленный комплекс, привлекли средств ЕНПФ, текущая стоимость которых составляет 132,5 млрд тенге (2% портфеля).\\n\\nВсего БРК в настоящий момент финансирует 67 проектов на общую сумму 4,3 трлн тенге.\\n\\nНаибольший объем в структуре портфеля БРК занимают проекты по кредитованию химической и нефтехимической отрасли - 49%, горно-металлургического комплекса - 21% и энергетики - 9%.\\n\\nВ портфеле НУХ \"КазАгро\" - порядка 530 проектов на общую сумму 323,9 млрд тенге.\\n\\n'"
      ]
     },
     "execution_count": 9,
     "metadata": {},
     "output_type": "execute_result"
    }
   ],
   "source": [
    "np.random.choice(X)"
   ]
  },
  {
   "cell_type": "code",
   "execution_count": 10,
   "metadata": {},
   "outputs": [],
   "source": [
    "stemmer = Mystem()"
   ]
  },
  {
   "cell_type": "code",
   "execution_count": 11,
   "metadata": {},
   "outputs": [],
   "source": [
    "from sklearn.preprocessing import LabelEncoder\n",
    "from sklearn.feature_extraction.text import TfidfVectorizer\n",
    "from sklearn.model_selection import train_test_split\n",
    "from sklearn.preprocessing import LabelEncoder\n",
    "\n",
    "\n",
    "def clean_string(string):    \n",
    "    punc_free = re.sub('[^\\w| ]', ' ', string)\n",
    "    digit_free = re.sub(r'\\d+', '', punc_free)\n",
    "    cyrillic = re.sub(r\"[^а-яА-ЯёЁ]+\", \" \", digit_free).lower()\n",
    "    return cyrillic"
   ]
  },
  {
   "cell_type": "code",
   "execution_count": 12,
   "metadata": {},
   "outputs": [],
   "source": [
    "class StemTfidfVectorizer(TfidfVectorizer):\n",
    "    def __init__(self, stemmer, preprocessor, stop_words, ngram_range):\n",
    "        super(StemTfidfVectorizer, self).__init__(\n",
    "            preprocessor=preprocessor, stop_words=stop_words, ngram_range=ngram_range\n",
    "        )\n",
    "        self.stemmer = stemmer\n",
    "        \n",
    "    def build_analyzer(self):\n",
    "        analyzer = super(StemTfidfVectorizer, self).build_analyzer()\n",
    "        return lambda doc: (self.stemmer.lemmatize(word)[0] for word in analyzer(doc))"
   ]
  },
  {
   "cell_type": "code",
   "execution_count": 13,
   "metadata": {},
   "outputs": [
    {
     "data": {
      "text/plain": [
       "((8263,), (8263,))"
      ]
     },
     "execution_count": 13,
     "metadata": {},
     "output_type": "execute_result"
    }
   ],
   "source": [
    "X.shape, y.shape"
   ]
  },
  {
   "cell_type": "code",
   "execution_count": 14,
   "metadata": {},
   "outputs": [],
   "source": [
    "X_train, X_test, y_train, y_test = train_test_split(X, y, test_size=0.1, random_state=42)"
   ]
  },
  {
   "cell_type": "code",
   "execution_count": 15,
   "metadata": {},
   "outputs": [],
   "source": [
    "tfidf = StemTfidfVectorizer(stemmer=stemmer, preprocessor=clean_string, stop_words=stopw,\n",
    "                           ngram_range=(1, 2))"
   ]
  },
  {
   "cell_type": "code",
   "execution_count": 16,
   "metadata": {
    "scrolled": true
   },
   "outputs": [
    {
     "data": {
      "text/plain": [
       "StemTfidfVectorizer(ngram_range=(1, 2),\n",
       "                    preprocessor=<function clean_string at 0x13b2338c8>,\n",
       "                    stemmer=<pymystem3.mystem.Mystem object at 0x130292f60>,\n",
       "                    stop_words=['и', 'в', 'во', 'не', 'что', 'он', 'на', 'я',\n",
       "                                'с', 'со', 'как', 'а', 'то', 'все', 'она',\n",
       "                                'так', 'его', 'но', 'да', 'ты', 'к', 'у', 'же',\n",
       "                                'вы', 'за', 'бы', 'по', 'только', 'ее', 'мне', ...])"
      ]
     },
     "execution_count": 16,
     "metadata": {},
     "output_type": "execute_result"
    }
   ],
   "source": [
    "tfidf.fit(X)"
   ]
  },
  {
   "cell_type": "code",
   "execution_count": 17,
   "metadata": {},
   "outputs": [
    {
     "data": {
      "text/plain": [
       "((8263,), (8263,))"
      ]
     },
     "execution_count": 17,
     "metadata": {},
     "output_type": "execute_result"
    }
   ],
   "source": [
    "X.shape, y.shape"
   ]
  },
  {
   "cell_type": "code",
   "execution_count": 18,
   "metadata": {},
   "outputs": [
    {
     "name": "stdout",
     "output_type": "stream",
     "text": [
      "\u001b[34m__pycache__\u001b[m\u001b[m   \u001b[34mdata\u001b[m\u001b[m          example.ipynb main.ipynb    nb.py\r\n"
     ]
    }
   ],
   "source": [
    "!ls"
   ]
  },
  {
   "cell_type": "code",
   "execution_count": 19,
   "metadata": {},
   "outputs": [],
   "source": [
    "from nb import NBFeaturer "
   ]
  },
  {
   "cell_type": "code",
   "execution_count": 20,
   "metadata": {},
   "outputs": [],
   "source": [
    "lab = LabelEncoder()\n",
    "lab.fit(y_train)\n",
    "\n",
    "train_y = []\n",
    "for i in range(3):\n",
    "    train_y.append((lab.transform(y_train) == i).astype(int))\n",
    "\n",
    "train_X = tfidf.transform(X_train)\n",
    "test_X = tfidf.transform(X_test)\n",
    "test_y = lab.transform(y_test)"
   ]
  },
  {
   "cell_type": "code",
   "execution_count": 22,
   "metadata": {},
   "outputs": [],
   "source": [
    "from sklearn.svm import LinearSVC\n",
    "from sklearn.pipeline import Pipeline\n",
    "from sklearn.metrics import accuracy_score\n",
    "\n",
    "nbf = NBFeaturer(alpha=1)\n",
    "model = LinearSVC(C=2, max_iter=100)\n",
    "\n",
    "p = pipeline = Pipeline([\n",
    "    ('nbf', nbf),\n",
    "    ('lr', model)\n",
    "])"
   ]
  },
  {
   "cell_type": "code",
   "execution_count": 23,
   "metadata": {},
   "outputs": [
    {
     "data": {
      "text/plain": [
       "[array([0, 0, 0, ..., 0, 0, 0]),\n",
       " array([1, 1, 1, ..., 0, 1, 0]),\n",
       " array([0, 0, 0, ..., 1, 0, 1])]"
      ]
     },
     "execution_count": 23,
     "metadata": {},
     "output_type": "execute_result"
    }
   ],
   "source": [
    "train_y"
   ]
  },
  {
   "cell_type": "code",
   "execution_count": 26,
   "metadata": {
    "scrolled": true
   },
   "outputs": [],
   "source": [
    "pred = []\n",
    "for i in range(3):\n",
    "    p.fit(train_X, train_y[i])\n",
    "    pred.append(p.decision_function(test_X))"
   ]
  },
  {
   "cell_type": "code",
   "execution_count": 27,
   "metadata": {},
   "outputs": [
    {
     "data": {
      "text/plain": [
       "0.7291414752116082"
      ]
     },
     "execution_count": 27,
     "metadata": {},
     "output_type": "execute_result"
    }
   ],
   "source": [
    "accuracy_score(test_y, np.argmax(np.array(pred), axis=0))"
   ]
  },
  {
   "cell_type": "code",
   "execution_count": null,
   "metadata": {},
   "outputs": [],
   "source": []
  }
 ],
 "metadata": {
  "kernelspec": {
   "display_name": "Python 3",
   "language": "python",
   "name": "python3"
  },
  "language_info": {
   "codemirror_mode": {
    "name": "ipython",
    "version": 3
   },
   "file_extension": ".py",
   "mimetype": "text/x-python",
   "name": "python",
   "nbconvert_exporter": "python",
   "pygments_lexer": "ipython3",
   "version": "3.7.3"
  }
 },
 "nbformat": 4,
 "nbformat_minor": 2
}
